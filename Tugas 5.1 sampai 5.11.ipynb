{
 "cells": [
  {
   "cell_type": "markdown",
   "id": "4a998161",
   "metadata": {},
   "source": [
    "5.1 Print"
   ]
  },
  {
   "cell_type": "code",
   "execution_count": 1,
   "id": "a1f83fe2",
   "metadata": {},
   "outputs": [
    {
     "name": "stdout",
     "output_type": "stream",
     "text": [
      "Ini Kelas Algoritma!\n"
     ]
    }
   ],
   "source": [
    "print('Ini Kelas Algoritma!')"
   ]
  },
  {
   "cell_type": "code",
   "execution_count": 2,
   "id": "dea1b4c2",
   "metadata": {},
   "outputs": [
    {
     "name": "stdout",
     "output_type": "stream",
     "text": [
      "Ini Kelas Algoritma!\n"
     ]
    }
   ],
   "source": [
    "print(\"Ini Kelas Algoritma!\")"
   ]
  },
  {
   "cell_type": "code",
   "execution_count": 3,
   "id": "0a82f0fe",
   "metadata": {},
   "outputs": [
    {
     "name": "stdout",
     "output_type": "stream",
     "text": [
      "I don't understand what are you saying\n"
     ]
    }
   ],
   "source": [
    "print(\"I don't understand what are you saying\")"
   ]
  },
  {
   "cell_type": "code",
   "execution_count": 4,
   "id": "ada519ac",
   "metadata": {},
   "outputs": [
    {
     "ename": "SyntaxError",
     "evalue": "invalid syntax (Temp/ipykernel_6936/3159777967.py, line 1)",
     "output_type": "error",
     "traceback": [
      "\u001b[1;36m  File \u001b[1;32m\"C:\\Users\\user\\AppData\\Local\\Temp/ipykernel_6936/3159777967.py\"\u001b[1;36m, line \u001b[1;32m1\u001b[0m\n\u001b[1;33m    print('I don't understand what are you saying')\u001b[0m\n\u001b[1;37m                 ^\u001b[0m\n\u001b[1;31mSyntaxError\u001b[0m\u001b[1;31m:\u001b[0m invalid syntax\n"
     ]
    }
   ],
   "source": [
    "print('I don't understand what are you saying')"
   ]
  },
  {
   "cell_type": "code",
   "execution_count": 5,
   "id": "1c9707b2",
   "metadata": {},
   "outputs": [
    {
     "name": "stdout",
     "output_type": "stream",
     "text": [
      "He is such a \"GENIUS\"\n"
     ]
    }
   ],
   "source": [
    "print('He is such a \"GENIUS\"')"
   ]
  },
  {
   "cell_type": "code",
   "execution_count": 6,
   "id": "6e26984b",
   "metadata": {},
   "outputs": [
    {
     "ename": "SyntaxError",
     "evalue": "invalid syntax (Temp/ipykernel_6936/4075591835.py, line 1)",
     "output_type": "error",
     "traceback": [
      "\u001b[1;36m  File \u001b[1;32m\"C:\\Users\\user\\AppData\\Local\\Temp/ipykernel_6936/4075591835.py\"\u001b[1;36m, line \u001b[1;32m1\u001b[0m\n\u001b[1;33m    print(\"He is such a \"GENIUS\"\")\u001b[0m\n\u001b[1;37m                         ^\u001b[0m\n\u001b[1;31mSyntaxError\u001b[0m\u001b[1;31m:\u001b[0m invalid syntax\n"
     ]
    }
   ],
   "source": [
    "print(\"He is such a \"GENIUS\"\")"
   ]
  },
  {
   "cell_type": "code",
   "execution_count": null,
   "id": "77c4d812",
   "metadata": {},
   "outputs": [],
   "source": [
    "#contoh penggunaan perintah print "
   ]
  },
  {
   "cell_type": "code",
   "execution_count": 7,
   "id": "9eac9ed9",
   "metadata": {},
   "outputs": [
    {
     "name": "stdout",
     "output_type": "stream",
     "text": [
      "42\n",
      "100000\n",
      "4200000\n"
     ]
    }
   ],
   "source": [
    "mahasiswa = 42\n",
    "uang_di_dompet = 100000\n",
    "print(mahasiswa)\n",
    "print(uang_di_dompet)\n",
    "print(mahasiswa*uang_di_dompet)"
   ]
  },
  {
   "cell_type": "code",
   "execution_count": 8,
   "id": "1ed8d076",
   "metadata": {},
   "outputs": [
    {
     "name": "stdout",
     "output_type": "stream",
     "text": [
      "Angga Saputra\n"
     ]
    }
   ],
   "source": [
    "nama_depan = 'Angga'\n",
    "nama_tengah = ' '\n",
    "nama_belakang = \"Saputra\"\n",
    "print(nama_depan + nama_tengah + nama_belakang)"
   ]
  },
  {
   "cell_type": "code",
   "execution_count": null,
   "id": "738999c2",
   "metadata": {},
   "outputs": [],
   "source": [
    "#contoh lainnya"
   ]
  },
  {
   "cell_type": "code",
   "execution_count": 9,
   "id": "b92a0bef",
   "metadata": {},
   "outputs": [
    {
     "name": "stdout",
     "output_type": "stream",
     "text": [
      "linda maharani\n"
     ]
    }
   ],
   "source": [
    "nama_depan = 'linda'\n",
    "nama_tengah = ' '\n",
    "nama_belakang = \"maharani\"\n",
    "print(nama_depan + nama_tengah + nama_belakang)"
   ]
  },
  {
   "cell_type": "code",
   "execution_count": 10,
   "id": "71469de7",
   "metadata": {},
   "outputs": [
    {
     "name": "stdout",
     "output_type": "stream",
     "text": [
      "16\n",
      "250000\n",
      "4000000\n"
     ]
    }
   ],
   "source": [
    "mahasiswa = 16\n",
    "uang_di_dompet = 250000\n",
    "print(mahasiswa)\n",
    "print(uang_di_dompet)\n",
    "print(mahasiswa*uang_di_dompet)"
   ]
  },
  {
   "cell_type": "code",
   "execution_count": 11,
   "id": "f6b94dab",
   "metadata": {},
   "outputs": [
    {
     "name": "stdout",
     "output_type": "stream",
     "text": [
      "Putu Linda Maharani\n"
     ]
    }
   ],
   "source": [
    "nama_depan = 'Putu '\n",
    "nama_tengah = 'Linda '\n",
    "nama_belakang = \"Maharani\"\n",
    "print(nama_depan + nama_tengah + nama_belakang)"
   ]
  },
  {
   "cell_type": "markdown",
   "id": "4e81a5ac",
   "metadata": {},
   "source": [
    "5.2 Input"
   ]
  },
  {
   "cell_type": "code",
   "execution_count": 12,
   "id": "37ef33b4",
   "metadata": {},
   "outputs": [
    {
     "name": "stdout",
     "output_type": "stream",
     "text": [
      "Siapakah nama anda? Linda\n",
      "Apakah kegiatan anda sekarang, Linda? Belajar\n",
      "Semangat Belajar nya yah, Linda!\n"
     ]
    }
   ],
   "source": [
    "nama = input(\"Siapakah nama anda? \")\n",
    "kegiatan = input('Apakah kegiatan anda sekarang, ' + nama +\"? \")\n",
    "print(\"Semangat \"+ kegiatan +\" nya yah, \" + nama + \"!\")"
   ]
  },
  {
   "cell_type": "code",
   "execution_count": null,
   "id": "0ac2e85e",
   "metadata": {},
   "outputs": [],
   "source": [
    "#contoh penggunaan perintah input"
   ]
  },
  {
   "cell_type": "code",
   "execution_count": 13,
   "id": "1a9ac060",
   "metadata": {},
   "outputs": [
    {
     "name": "stdout",
     "output_type": "stream",
     "text": [
      "Siapakah nama anda? Linda\n",
      "Berapakah umur anda sekarang, Linda? 18\n",
      "Happy Birthday Linda yang ke 18, semoga panjang umur dan sehat selalu\n"
     ]
    }
   ],
   "source": [
    "nama = input(\"Siapakah nama anda? \")\n",
    "umur = input('Berapakah umur anda sekarang, ' + nama +\"? \")\n",
    "print(\"Happy Birthday \"+ nama +\" yang ke \" + umur + \", semoga panjang umur dan sehat selalu\")"
   ]
  },
  {
   "cell_type": "markdown",
   "id": "8d273e4f",
   "metadata": {},
   "source": [
    "5.3 Tipe Data Pada Phyton"
   ]
  },
  {
   "cell_type": "code",
   "execution_count": null,
   "id": "722478aa",
   "metadata": {},
   "outputs": [],
   "source": [
    "#cara merubah tipe data"
   ]
  },
  {
   "cell_type": "code",
   "execution_count": 14,
   "id": "d8ba6381",
   "metadata": {},
   "outputs": [
    {
     "name": "stdout",
     "output_type": "stream",
     "text": [
      "Berapakah jumlah uang di dompet anda? 1000\n",
      "Berapakah jumlah uang anda di bank? 2000\n",
      "Total uang anda adalah Rp 10002000\n"
     ]
    }
   ],
   "source": [
    "uang_di_dompet = input(\"Berapakah jumlah uang di dompet anda? \")\n",
    "uang_di_bank = input(\"Berapakah jumlah uang anda di bank? \")\n",
    "print(\"Total uang anda adalah Rp \" + uang_di_dompet + uang_di_bank)"
   ]
  },
  {
   "cell_type": "code",
   "execution_count": 15,
   "id": "4f3d2cb2",
   "metadata": {},
   "outputs": [
    {
     "name": "stdout",
     "output_type": "stream",
     "text": [
      "Berapakah jumlah uang di dompet anda? 1000\n",
      "Berapakah jumlah uang anda di bank? 2000\n",
      "Total uang anda adalah Rp 3000\n"
     ]
    }
   ],
   "source": [
    "uang_di_dompet = input(\"Berapakah jumlah uang di dompet anda? \")\n",
    "uang_di_bank = input(\"Berapakah jumlah uang anda di bank? \")\n",
    "total_uang = int(uang_di_dompet) + int(uang_di_bank)\n",
    "print(\"Total uang anda adalah Rp \"+ str(total_uang))"
   ]
  },
  {
   "cell_type": "code",
   "execution_count": null,
   "id": "603859c1",
   "metadata": {},
   "outputs": [],
   "source": [
    "#cara melihat tipe data varibel"
   ]
  },
  {
   "cell_type": "code",
   "execution_count": 16,
   "id": "d8e4bd76",
   "metadata": {},
   "outputs": [
    {
     "data": {
      "text/plain": [
       "str"
      ]
     },
     "execution_count": 16,
     "metadata": {},
     "output_type": "execute_result"
    }
   ],
   "source": [
    "type(uang_di_dompet)"
   ]
  },
  {
   "cell_type": "code",
   "execution_count": 17,
   "id": "9bdc2315",
   "metadata": {},
   "outputs": [
    {
     "data": {
      "text/plain": [
       "str"
      ]
     },
     "execution_count": 17,
     "metadata": {},
     "output_type": "execute_result"
    }
   ],
   "source": [
    "type(uang_di_bank)"
   ]
  },
  {
   "cell_type": "code",
   "execution_count": 18,
   "id": "a9c0d22f",
   "metadata": {},
   "outputs": [
    {
     "data": {
      "text/plain": [
       "int"
      ]
     },
     "execution_count": 18,
     "metadata": {},
     "output_type": "execute_result"
    }
   ],
   "source": [
    "type(total_uang)"
   ]
  },
  {
   "cell_type": "code",
   "execution_count": null,
   "id": "13c8769e",
   "metadata": {},
   "outputs": [],
   "source": [
    "#latihan"
   ]
  },
  {
   "cell_type": "code",
   "execution_count": 19,
   "id": "fdfa5d50",
   "metadata": {},
   "outputs": [
    {
     "name": "stdout",
     "output_type": "stream",
     "text": [
      "Masukkan bilangan satu 28\n",
      "Masukkan bilangan kedua 16\n",
      "pemjumlahan kedua bilangan tersebut adalah 44.0\n"
     ]
    }
   ],
   "source": [
    "bilangan_satu = input(\"Masukkan bilangan satu \")\n",
    "bilangan_kedua = input(\"Masukkan bilangan kedua \")\n",
    "jumlah = float(bilangan_satu) + float(bilangan_kedua)\n",
    "print(\"pemjumlahan kedua bilangan tersebut adalah \"+ str(jumlah))"
   ]
  },
  {
   "cell_type": "code",
   "execution_count": 20,
   "id": "84bbb603",
   "metadata": {},
   "outputs": [
    {
     "name": "stdout",
     "output_type": "stream",
     "text": [
      "Masukkan bilangan genap 10\n",
      "Masukkan bilangan ganjil 55\n",
      "selisih antara bilangan genap dan bilangan ganjil tersebut adalah -45.0\n"
     ]
    }
   ],
   "source": [
    "bilangan_genap = input(\"Masukkan bilangan genap \")\n",
    "bilangan_ganjil = input(\"Masukkan bilangan ganjil \")\n",
    "jumlah = float(bilangan_genap) - float(bilangan_ganjil)\n",
    "print(\"selisih antara bilangan genap dan bilangan ganjil tersebut adalah \"+ str(jumlah))"
   ]
  },
  {
   "cell_type": "markdown",
   "id": "a8305e0a",
   "metadata": {},
   "source": [
    "5.4 Formated String"
   ]
  },
  {
   "cell_type": "code",
   "execution_count": 22,
   "id": "2aa43148",
   "metadata": {},
   "outputs": [
    {
     "name": "stdout",
     "output_type": "stream",
     "text": [
      "Linda adalah seorang Pelajar di Universitas Udayana Matematika dan Ilmu Pengetahuan Alam\n"
     ]
    }
   ],
   "source": [
    "nama = \"Linda\"\n",
    "pekerjaan = \"Pelajar\"\n",
    "institusi = \"Universitas Udayana\"\n",
    "fakultas = \" Matematika dan Ilmu Pengetahuan Alam\"\n",
    "print(nama + ' adalah seorang ' + pekerjaan + ' di ' + institusi + fakultas)"
   ]
  },
  {
   "cell_type": "code",
   "execution_count": 24,
   "id": "d3658605",
   "metadata": {},
   "outputs": [
    {
     "name": "stdout",
     "output_type": "stream",
     "text": [
      "Linda adalah seorang Pelajar di Universitas Udayana Matematika dan Ilmu Pengetahuan Alam.\n"
     ]
    }
   ],
   "source": [
    "print(f'{nama} adalah seorang {pekerjaan} di {institusi}{fakultas}.')"
   ]
  },
  {
   "cell_type": "code",
   "execution_count": 25,
   "id": "be4045e5",
   "metadata": {},
   "outputs": [
    {
     "name": "stdout",
     "output_type": "stream",
     "text": [
      "Linda adalah seorang Pelajar di Universitas Udayana.\n"
     ]
    }
   ],
   "source": [
    "print(f\"{nama} adalah seorang {pekerjaan} di {institusi}.\")"
   ]
  },
  {
   "cell_type": "markdown",
   "id": "6ae6e121",
   "metadata": {},
   "source": [
    "5.5 Strings Index"
   ]
  },
  {
   "cell_type": "code",
   "execution_count": 26,
   "id": "bb8ce236",
   "metadata": {},
   "outputs": [],
   "source": [
    "kelas = 'ini kelas algoritma'"
   ]
  },
  {
   "cell_type": "code",
   "execution_count": 27,
   "id": "6debcdc0",
   "metadata": {},
   "outputs": [
    {
     "name": "stdout",
     "output_type": "stream",
     "text": [
      "ini\n"
     ]
    }
   ],
   "source": [
    "print(kelas[0:3])"
   ]
  },
  {
   "cell_type": "code",
   "execution_count": 28,
   "id": "f3fa98a7",
   "metadata": {},
   "outputs": [
    {
     "name": "stdout",
     "output_type": "stream",
     "text": [
      "ini kelas algoritm\n"
     ]
    }
   ],
   "source": [
    "print(kelas[0:-1])"
   ]
  },
  {
   "cell_type": "code",
   "execution_count": 29,
   "id": "1f011c3b",
   "metadata": {},
   "outputs": [
    {
     "name": "stdout",
     "output_type": "stream",
     "text": [
      "elas algoritm\n"
     ]
    }
   ],
   "source": [
    "print(kelas[5:-1])"
   ]
  },
  {
   "cell_type": "code",
   "execution_count": 30,
   "id": "744177a3",
   "metadata": {},
   "outputs": [
    {
     "name": "stdout",
     "output_type": "stream",
     "text": [
      "ieslrm\n"
     ]
    }
   ],
   "source": [
    "print(kelas[2:-1:3])"
   ]
  },
  {
   "cell_type": "code",
   "execution_count": 31,
   "id": "ada21700",
   "metadata": {},
   "outputs": [
    {
     "name": "stdout",
     "output_type": "stream",
     "text": [
      "ini kelas algori\n"
     ]
    }
   ],
   "source": [
    "print(kelas[:-3])"
   ]
  },
  {
   "cell_type": "code",
   "execution_count": 32,
   "id": "c758e05d",
   "metadata": {},
   "outputs": [
    {
     "name": "stdout",
     "output_type": "stream",
     "text": [
      "ni kelas algoritma\n"
     ]
    }
   ],
   "source": [
    "print(kelas[1:])"
   ]
  },
  {
   "cell_type": "code",
   "execution_count": 33,
   "id": "105f32ea",
   "metadata": {},
   "outputs": [
    {
     "name": "stdout",
     "output_type": "stream",
     "text": [
      "ini kelas algoritma\n"
     ]
    }
   ],
   "source": [
    "print(kelas[:])"
   ]
  },
  {
   "cell_type": "markdown",
   "id": "165ae01d",
   "metadata": {},
   "source": [
    "5.6 Strings Methods"
   ]
  },
  {
   "cell_type": "code",
   "execution_count": 34,
   "id": "e27cbfce",
   "metadata": {},
   "outputs": [],
   "source": [
    "judul = 'Bali Surga Dunia'"
   ]
  },
  {
   "cell_type": "code",
   "execution_count": 35,
   "id": "20ded63e",
   "metadata": {},
   "outputs": [
    {
     "name": "stdout",
     "output_type": "stream",
     "text": [
      "16\n"
     ]
    }
   ],
   "source": [
    "print(len(judul))"
   ]
  },
  {
   "cell_type": "code",
   "execution_count": 36,
   "id": "12bb9776",
   "metadata": {},
   "outputs": [
    {
     "data": {
      "text/plain": [
       "'BALI SURGA DUNIA'"
      ]
     },
     "execution_count": 36,
     "metadata": {},
     "output_type": "execute_result"
    }
   ],
   "source": [
    "judul.upper()"
   ]
  },
  {
   "cell_type": "code",
   "execution_count": 37,
   "id": "6b560021",
   "metadata": {},
   "outputs": [
    {
     "data": {
      "text/plain": [
       "'bali surga dunia'"
      ]
     },
     "execution_count": 37,
     "metadata": {},
     "output_type": "execute_result"
    }
   ],
   "source": [
    "judul.lower()"
   ]
  },
  {
   "cell_type": "code",
   "execution_count": 38,
   "id": "690ca4c2",
   "metadata": {},
   "outputs": [
    {
     "data": {
      "text/plain": [
       "5"
      ]
     },
     "execution_count": 38,
     "metadata": {},
     "output_type": "execute_result"
    }
   ],
   "source": [
    "judul.find('Surga')"
   ]
  },
  {
   "cell_type": "code",
   "execution_count": 39,
   "id": "6ffa92d9",
   "metadata": {},
   "outputs": [
    {
     "data": {
      "text/plain": [
       "-1"
      ]
     },
     "execution_count": 39,
     "metadata": {},
     "output_type": "execute_result"
    }
   ],
   "source": [
    "judul.find('bali')"
   ]
  },
  {
   "cell_type": "code",
   "execution_count": 40,
   "id": "9e12aa04",
   "metadata": {},
   "outputs": [
    {
     "data": {
      "text/plain": [
       "'Indonesia Surga Dunia'"
      ]
     },
     "execution_count": 40,
     "metadata": {},
     "output_type": "execute_result"
    }
   ],
   "source": [
    "judul.replace('Bali', 'Indonesia')"
   ]
  },
  {
   "cell_type": "code",
   "execution_count": 41,
   "id": "3ce8ec0c",
   "metadata": {},
   "outputs": [
    {
     "data": {
      "text/plain": [
       "'Bali Surga Dunia'"
      ]
     },
     "execution_count": 41,
     "metadata": {},
     "output_type": "execute_result"
    }
   ],
   "source": [
    "judul.replace('bali', 'Indonesia')"
   ]
  },
  {
   "cell_type": "code",
   "execution_count": 42,
   "id": "0fc1ab5d",
   "metadata": {},
   "outputs": [
    {
     "name": "stdout",
     "output_type": "stream",
     "text": [
      "True\n"
     ]
    }
   ],
   "source": [
    "print('Bali' in judul)"
   ]
  },
  {
   "cell_type": "code",
   "execution_count": 43,
   "id": "e526ee57",
   "metadata": {},
   "outputs": [
    {
     "name": "stdout",
     "output_type": "stream",
     "text": [
      "False\n"
     ]
    }
   ],
   "source": [
    "print('bali' in judul)"
   ]
  },
  {
   "cell_type": "code",
   "execution_count": null,
   "id": "ab2899fd",
   "metadata": {},
   "outputs": [],
   "source": [
    "#contoh lainnya"
   ]
  },
  {
   "cell_type": "code",
   "execution_count": 45,
   "id": "7d6e341e",
   "metadata": {},
   "outputs": [],
   "source": [
    "judul = 'Matematika Sangat Menyenangkan'"
   ]
  },
  {
   "cell_type": "code",
   "execution_count": 46,
   "id": "590ac67d",
   "metadata": {},
   "outputs": [
    {
     "name": "stdout",
     "output_type": "stream",
     "text": [
      "30\n"
     ]
    }
   ],
   "source": [
    "print(len(judul))"
   ]
  },
  {
   "cell_type": "code",
   "execution_count": 47,
   "id": "8d3d4455",
   "metadata": {},
   "outputs": [
    {
     "data": {
      "text/plain": [
       "'MATEMATIKA SANGAT MENYENANGKAN'"
      ]
     },
     "execution_count": 47,
     "metadata": {},
     "output_type": "execute_result"
    }
   ],
   "source": [
    "judul.upper()"
   ]
  },
  {
   "cell_type": "code",
   "execution_count": 48,
   "id": "3ed65f06",
   "metadata": {},
   "outputs": [
    {
     "data": {
      "text/plain": [
       "'matematika sangat menyenangkan'"
      ]
     },
     "execution_count": 48,
     "metadata": {},
     "output_type": "execute_result"
    }
   ],
   "source": [
    "judul.lower()"
   ]
  },
  {
   "cell_type": "code",
   "execution_count": 49,
   "id": "5938fdb7",
   "metadata": {},
   "outputs": [
    {
     "data": {
      "text/plain": [
       "11"
      ]
     },
     "execution_count": 49,
     "metadata": {},
     "output_type": "execute_result"
    }
   ],
   "source": [
    "judul.find('Sangat')"
   ]
  },
  {
   "cell_type": "code",
   "execution_count": 50,
   "id": "5f81ec42",
   "metadata": {},
   "outputs": [
    {
     "data": {
      "text/plain": [
       "-1"
      ]
     },
     "execution_count": 50,
     "metadata": {},
     "output_type": "execute_result"
    }
   ],
   "source": [
    "judul.find('matematika')"
   ]
  },
  {
   "cell_type": "code",
   "execution_count": 51,
   "id": "c287909c",
   "metadata": {},
   "outputs": [
    {
     "data": {
      "text/plain": [
       "'Pelajaran Sangat Menyenangkan'"
      ]
     },
     "execution_count": 51,
     "metadata": {},
     "output_type": "execute_result"
    }
   ],
   "source": [
    "judul.replace('Matematika', 'Pelajaran')"
   ]
  },
  {
   "cell_type": "code",
   "execution_count": 52,
   "id": "7f053cae",
   "metadata": {},
   "outputs": [
    {
     "data": {
      "text/plain": [
       "'Matematika Sangat Menyenangkan'"
      ]
     },
     "execution_count": 52,
     "metadata": {},
     "output_type": "execute_result"
    }
   ],
   "source": [
    "judul.replace('matematika', 'Pelajaran')"
   ]
  },
  {
   "cell_type": "code",
   "execution_count": 53,
   "id": "e290be15",
   "metadata": {},
   "outputs": [
    {
     "name": "stdout",
     "output_type": "stream",
     "text": [
      "True\n"
     ]
    }
   ],
   "source": [
    "print('Matematika' in judul)"
   ]
  },
  {
   "cell_type": "code",
   "execution_count": 54,
   "id": "aac419f5",
   "metadata": {},
   "outputs": [
    {
     "name": "stdout",
     "output_type": "stream",
     "text": [
      "False\n"
     ]
    }
   ],
   "source": [
    "print('matematika' in judul)"
   ]
  },
  {
   "cell_type": "markdown",
   "id": "5eed7ada",
   "metadata": {},
   "source": [
    "5.7 Operasi Matematika di Phyton"
   ]
  },
  {
   "cell_type": "code",
   "execution_count": 55,
   "id": "ff7ffcf7",
   "metadata": {},
   "outputs": [
    {
     "name": "stdout",
     "output_type": "stream",
     "text": [
      "5\n",
      "-3\n",
      "6\n",
      "2.3333333333333335\n",
      "2\n",
      "1\n",
      "8\n",
      "4\n",
      "-2\n",
      "-6\n"
     ]
    }
   ],
   "source": [
    "print(2+3)\n",
    "print(2-5)\n",
    "print(2*3)\n",
    "print(7/3)\n",
    "print(7//3)\n",
    "print(7%3)\n",
    "print(2**3)\n",
    "x=3\n",
    "x+=1\n",
    "print(x)\n",
    "x=-2\n",
    "print(x)\n",
    "x*=3\n",
    "print(x)"
   ]
  },
  {
   "cell_type": "code",
   "execution_count": null,
   "id": "fd584792",
   "metadata": {},
   "outputs": [],
   "source": [
    "#contoh lainnya"
   ]
  },
  {
   "cell_type": "code",
   "execution_count": 56,
   "id": "849a9c81",
   "metadata": {},
   "outputs": [
    {
     "name": "stdout",
     "output_type": "stream",
     "text": [
      "3.75\n"
     ]
    }
   ],
   "source": [
    "print(15/4)"
   ]
  },
  {
   "cell_type": "code",
   "execution_count": 57,
   "id": "355712bc",
   "metadata": {},
   "outputs": [
    {
     "name": "stdout",
     "output_type": "stream",
     "text": [
      "34522712143931\n"
     ]
    }
   ],
   "source": [
    "print(11**13)"
   ]
  },
  {
   "cell_type": "markdown",
   "id": "5a1e02b6",
   "metadata": {},
   "source": [
    "5.8 Operator Perbandingan di Phyton"
   ]
  },
  {
   "cell_type": "code",
   "execution_count": 59,
   "id": "e338d2ca",
   "metadata": {},
   "outputs": [
    {
     "name": "stdout",
     "output_type": "stream",
     "text": [
      "True\n",
      "True\n",
      "True\n",
      "True\n",
      "True\n",
      "True\n"
     ]
    }
   ],
   "source": [
    "x = 3>2\n",
    "print(x)\n",
    "x = 2<3\n",
    "print(x)\n",
    "x = 3 >= 2\n",
    "print(x)\n",
    "x = 2 <= 3\n",
    "print(x)\n",
    "x = 3 == 3\n",
    "print(x)\n",
    "x = 3 != 4\n",
    "print(x)"
   ]
  },
  {
   "cell_type": "code",
   "execution_count": 60,
   "id": "946fedbb",
   "metadata": {},
   "outputs": [
    {
     "name": "stdout",
     "output_type": "stream",
     "text": [
      "False\n",
      "False\n",
      "False\n",
      "False\n",
      "False\n",
      "False\n"
     ]
    }
   ],
   "source": [
    "x = 2>3\n",
    "print(x)\n",
    "x = 3<2\n",
    "print(x)\n",
    "x = 2 >= 3\n",
    "print(x)\n",
    "x = 3 <= 2\n",
    "print(x)\n",
    "x = 3 == 4\n",
    "print(x)\n",
    "x = 3 != 3\n",
    "print(x)"
   ]
  },
  {
   "cell_type": "markdown",
   "id": "5c4ed1d0",
   "metadata": {},
   "source": [
    "5.9 Operator Logika di Phyton"
   ]
  },
  {
   "cell_type": "code",
   "execution_count": 61,
   "id": "277c9418",
   "metadata": {},
   "outputs": [
    {
     "name": "stdout",
     "output_type": "stream",
     "text": [
      "True\n"
     ]
    }
   ],
   "source": [
    "buah_manggis = 10\n",
    "buah_mangga = 15\n",
    "print(buah_manggis > 8 and buah_mangga < 20)"
   ]
  },
  {
   "cell_type": "code",
   "execution_count": 62,
   "id": "954afa22",
   "metadata": {},
   "outputs": [
    {
     "name": "stdout",
     "output_type": "stream",
     "text": [
      "True\n"
     ]
    }
   ],
   "source": [
    "print(buah_manggis < 8 or buah_mangga < 20)"
   ]
  },
  {
   "cell_type": "code",
   "execution_count": 63,
   "id": "e6a63fad",
   "metadata": {},
   "outputs": [
    {
     "name": "stdout",
     "output_type": "stream",
     "text": [
      "False\n"
     ]
    }
   ],
   "source": [
    "print(buah_manggis < 8 or buah_mangga > 20)"
   ]
  },
  {
   "cell_type": "code",
   "execution_count": 64,
   "id": "42b22add",
   "metadata": {},
   "outputs": [
    {
     "name": "stdout",
     "output_type": "stream",
     "text": [
      "True\n"
     ]
    }
   ],
   "source": [
    "print(not (buah_manggis < 8 or buah_mangga > 20))"
   ]
  },
  {
   "cell_type": "markdown",
   "id": "496d0f74",
   "metadata": {},
   "source": [
    "5.10 Operator If di Phyton"
   ]
  },
  {
   "cell_type": "code",
   "execution_count": 65,
   "id": "9b5cc3be",
   "metadata": {},
   "outputs": [
    {
     "name": "stdout",
     "output_type": "stream",
     "text": [
      "Nilai anda adalah 86\n",
      "Anda mendapatkan nilai A\n",
      "Bagus sekali, selamat!\n"
     ]
    }
   ],
   "source": [
    "nilai = float(input(\"Nilai anda adalah \"))\n",
    "if nilai >= 80:\n",
    "    print(\"Anda mendapatkan nilai A\")\n",
    "    print(\"Bagus sekali, selamat!\")\n",
    "if nilai < 80 and nilai >= 70:\n",
    "    print(\"Anda mendapatkan nilai B\")\n",
    "    print(\"Tingkatkan prestasimu!\")\n",
    "if nilai >= 60 and nilai < 70:\n",
    "    print(\"Anda mendapatkan nilai C\")\n",
    "    print(\"Lain kali harus lebih baik!\")\n",
    "if nilai >= 50 and nilai < 60:\n",
    "    print(\"Anda mendapatkan nilai D\")\n",
    "    print(\"Ulang lagi tahun depan\")\n",
    "if nilai < 50:\n",
    "    print(\"Anda mendapatkan nilai E\")\n",
    "    print(\"sampai jumpa tahun depan\")"
   ]
  },
  {
   "cell_type": "code",
   "execution_count": 66,
   "id": "90865633",
   "metadata": {},
   "outputs": [
    {
     "name": "stdout",
     "output_type": "stream",
     "text": [
      "Nilai anda adalah 43\n",
      "Anda mendapatkan nilai E\n",
      "sampai jumpa tahun depan\n"
     ]
    }
   ],
   "source": [
    "nilai = float(input(\"Nilai anda adalah \"))\n",
    "if nilai >= 80:\n",
    "    print(\"Anda mendapatkan nilai A\")\n",
    "    print(\"Bagus sekali, selamat!\")\n",
    "elif nilai >= 70:\n",
    "    print(\"Anda mendapatkan nilai B\")\n",
    "    print(\"Tingkatkan prestasimu!\")\n",
    "elif nilai >= 60:\n",
    "    print(\"Anda mendapatkan nilai C\")\n",
    "    print(\"Lain kali harus lebih baik!\")\n",
    "elif nilai >= 50:\n",
    "    print(\"Anda mendapatkan nilai D\")\n",
    "    print(\"Ulang lagi tahun depan\")\n",
    "else:\n",
    "    print(\"Anda mendapatkan nilai E\")\n",
    "    print(\"sampai jumpa tahun depan\")"
   ]
  },
  {
   "cell_type": "code",
   "execution_count": null,
   "id": "5ce3bf7d",
   "metadata": {},
   "outputs": [],
   "source": [
    "#contoh lainnya"
   ]
  },
  {
   "cell_type": "code",
   "execution_count": 67,
   "id": "780b35cc",
   "metadata": {},
   "outputs": [
    {
     "name": "stdout",
     "output_type": "stream",
     "text": [
      "Nilai kuis Algoritma Anda adalah 99\n",
      "Anda mendapatkan nilai A\n",
      "Bagus pertahankan, selamat!\n"
     ]
    }
   ],
   "source": [
    "nilai = float(input(\"Nilai kuis Algoritma Anda adalah \"))\n",
    "if nilai >= 85:\n",
    "    print(\"Anda mendapatkan nilai A\")\n",
    "    print(\"Bagus pertahankan, selamat!\")"
   ]
  },
  {
   "cell_type": "code",
   "execution_count": 69,
   "id": "bb8793b7",
   "metadata": {},
   "outputs": [
    {
     "name": "stdout",
     "output_type": "stream",
     "text": [
      "Nilai ujian Kalkulus Anda adalah 44\n",
      "Anda mendapatkan nilai D\n",
      "Tingkatkan lagi!\n"
     ]
    }
   ],
   "source": [
    "nilai = float(input(\"Nilai ujian Kalkulus Anda adalah \"))\n",
    "if nilai <= 50:\n",
    "    print(\"Anda mendapatkan nilai D\")\n",
    "    print(\"Tingkatkan lagi!\")"
   ]
  },
  {
   "cell_type": "code",
   "execution_count": null,
   "id": "e84ece70",
   "metadata": {},
   "outputs": [],
   "source": [
    "berat = float(input(\"Berapakah berat badan Anda? \"))\n",
    "kg_atau_g = input(\"Berat dalam kg atau g? \")\n",
    "if kg_atau_g.upper() == 'KG':\n",
    "    berat = berat*1000\n",
    "    print(\"Berat badan Anda adalah \" + str(berat) + \"g. \")\n",
    "elif kg_atau_g.upper() == 'G':\n",
    "    berat = berat/1000\n",
    "    print(\"Berat badan Anda adalah \" + str(berat) + \"kg. \")"
   ]
  },
  {
   "cell_type": "code",
   "execution_count": 71,
   "id": "df50982a",
   "metadata": {},
   "outputs": [
    {
     "name": "stdout",
     "output_type": "stream",
     "text": [
      "Berapakah berat badan Anda? 46\n",
      "Berat dalam kg atau g? kg\n",
      "Berat badan Anda adalah 46000.0g. \n"
     ]
    }
   ],
   "source": [
    "berat = float(input(\"Berapakah berat badan Anda? \"))\n",
    "kg_atau_g = input(\"Berat dalam kg atau g? \")\n",
    "if kg_atau_g.upper() == 'KG':\n",
    "    berat = berat*1000\n",
    "    print(\"Berat badan Anda adalah \" + str(berat) + \"g. \")\n",
    "elif kg_atau_g.upper() == 'G':\n",
    "    berat = berat/1000\n",
    "    print(\"Berat badan Anda adalah \" + str(berat) + \"kg. \")"
   ]
  },
  {
   "cell_type": "code",
   "execution_count": null,
   "id": "f22d892d",
   "metadata": {},
   "outputs": [],
   "source": [
    "#latihan"
   ]
  },
  {
   "cell_type": "code",
   "execution_count": null,
   "id": "0108b859",
   "metadata": {},
   "outputs": [],
   "source": [
    "tinggi = float(input(\"Berapakah tinggi Anda? \"))\n",
    "cm_atau_inci = input(\"Tingginya dalam cm atau inci? \")\n",
    "\n",
    "if cm_atau_inci.upper() == 'CM':\n",
    "    tinggi = tinggi*0,393701\n",
    "    print(\"Tinggi Anda adalah \" + str(tinggi) + \"inci \")\n",
    "elif cm_atau_inci.upper() == 'INCI':\n",
    "    tinggi = tinggi/0,303701\n",
    "    print(f\"Tinggi Anda adalah {tinggi} cm\")"
   ]
  },
  {
   "cell_type": "markdown",
   "id": "c12c35ed",
   "metadata": {},
   "source": [
    "5.11 While Loop"
   ]
  },
  {
   "cell_type": "code",
   "execution_count": null,
   "id": "88ea8ae5",
   "metadata": {},
   "outputs": [],
   "source": [
    "a = 0\n",
    "while a < 5:\n",
    "    print(\"Angka \" + str(a)+\" masih dibawah 5\")\n",
    "    a += 1"
   ]
  },
  {
   "cell_type": "code",
   "execution_count": null,
   "id": "194ba729",
   "metadata": {},
   "outputs": [],
   "source": [
    "a = 0\n",
    "while a < 5: \n",
    "    print(a * '*')\n",
    "    a += 1"
   ]
  },
  {
   "cell_type": "code",
   "execution_count": null,
   "id": "84b9a5e1",
   "metadata": {},
   "outputs": [],
   "source": [
    "a = 0\n",
    "while a < 20:\n",
    "    print(\"Angka \" + str(a)+\" masih dibawah 50\")\n",
    "    a += 1"
   ]
  }
 ],
 "metadata": {
  "kernelspec": {
   "display_name": "Python 3 (ipykernel)",
   "language": "python",
   "name": "python3"
  },
  "language_info": {
   "codemirror_mode": {
    "name": "ipython",
    "version": 3
   },
   "file_extension": ".py",
   "mimetype": "text/x-python",
   "name": "python",
   "nbconvert_exporter": "python",
   "pygments_lexer": "ipython3",
   "version": "3.9.7"
  }
 },
 "nbformat": 4,
 "nbformat_minor": 5
}
